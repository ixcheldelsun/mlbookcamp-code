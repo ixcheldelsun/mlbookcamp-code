{
 "cells": [
  {
   "cell_type": "code",
   "execution_count": 6,
   "id": "be037cf7",
   "metadata": {},
   "outputs": [],
   "source": [
    "import pandas as pd\n",
    "import seaborn as sns"
   ]
  },
  {
   "cell_type": "code",
   "execution_count": 4,
   "id": "9d44fed0",
   "metadata": {},
   "outputs": [
    {
     "name": "stdout",
     "output_type": "stream",
     "text": [
      "--2022-09-18 19:35:55--  https://raw.githubusercontent.com/alexeygrigorev/datasets/master/housing.csv\n",
      "Resolving raw.githubusercontent.com (raw.githubusercontent.com)... 185.199.111.133, 185.199.108.133, 185.199.110.133, ...\n",
      "Connecting to raw.githubusercontent.com (raw.githubusercontent.com)|185.199.111.133|:443... connected.\n",
      "HTTP request sent, awaiting response... 200 OK\n",
      "Length: 1423529 (1.4M) [text/plain]\n",
      "Saving to: 'housing.csv'\n",
      "\n",
      "housing.csv         100%[===================>]   1.36M  4.24MB/s    in 0.3s    \n",
      "\n",
      "2022-09-18 19:35:56 (4.24 MB/s) - 'housing.csv' saved [1423529/1423529]\n",
      "\n"
     ]
    }
   ],
   "source": [
    "## Dataset\n",
    "\n",
    "!wget https://raw.githubusercontent.com/alexeygrigorev/datasets/master/housing.csv\n",
    "data = pd.read_csv(\"housing.csv\")\n"
   ]
  },
  {
   "cell_type": "code",
   "execution_count": 5,
   "id": "f7dfc72d",
   "metadata": {},
   "outputs": [
    {
     "data": {
      "text/html": [
       "<div>\n",
       "<style scoped>\n",
       "    .dataframe tbody tr th:only-of-type {\n",
       "        vertical-align: middle;\n",
       "    }\n",
       "\n",
       "    .dataframe tbody tr th {\n",
       "        vertical-align: top;\n",
       "    }\n",
       "\n",
       "    .dataframe thead th {\n",
       "        text-align: right;\n",
       "    }\n",
       "</style>\n",
       "<table border=\"1\" class=\"dataframe\">\n",
       "  <thead>\n",
       "    <tr style=\"text-align: right;\">\n",
       "      <th></th>\n",
       "      <th>longitude</th>\n",
       "      <th>latitude</th>\n",
       "      <th>housing_median_age</th>\n",
       "      <th>total_rooms</th>\n",
       "      <th>total_bedrooms</th>\n",
       "      <th>population</th>\n",
       "      <th>households</th>\n",
       "      <th>median_income</th>\n",
       "      <th>median_house_value</th>\n",
       "      <th>ocean_proximity</th>\n",
       "    </tr>\n",
       "  </thead>\n",
       "  <tbody>\n",
       "    <tr>\n",
       "      <th>0</th>\n",
       "      <td>-122.23</td>\n",
       "      <td>37.88</td>\n",
       "      <td>41.0</td>\n",
       "      <td>880.0</td>\n",
       "      <td>129.0</td>\n",
       "      <td>322.0</td>\n",
       "      <td>126.0</td>\n",
       "      <td>8.3252</td>\n",
       "      <td>452600.0</td>\n",
       "      <td>NEAR BAY</td>\n",
       "    </tr>\n",
       "    <tr>\n",
       "      <th>1</th>\n",
       "      <td>-122.22</td>\n",
       "      <td>37.86</td>\n",
       "      <td>21.0</td>\n",
       "      <td>7099.0</td>\n",
       "      <td>1106.0</td>\n",
       "      <td>2401.0</td>\n",
       "      <td>1138.0</td>\n",
       "      <td>8.3014</td>\n",
       "      <td>358500.0</td>\n",
       "      <td>NEAR BAY</td>\n",
       "    </tr>\n",
       "    <tr>\n",
       "      <th>2</th>\n",
       "      <td>-122.24</td>\n",
       "      <td>37.85</td>\n",
       "      <td>52.0</td>\n",
       "      <td>1467.0</td>\n",
       "      <td>190.0</td>\n",
       "      <td>496.0</td>\n",
       "      <td>177.0</td>\n",
       "      <td>7.2574</td>\n",
       "      <td>352100.0</td>\n",
       "      <td>NEAR BAY</td>\n",
       "    </tr>\n",
       "    <tr>\n",
       "      <th>3</th>\n",
       "      <td>-122.25</td>\n",
       "      <td>37.85</td>\n",
       "      <td>52.0</td>\n",
       "      <td>1274.0</td>\n",
       "      <td>235.0</td>\n",
       "      <td>558.0</td>\n",
       "      <td>219.0</td>\n",
       "      <td>5.6431</td>\n",
       "      <td>341300.0</td>\n",
       "      <td>NEAR BAY</td>\n",
       "    </tr>\n",
       "    <tr>\n",
       "      <th>4</th>\n",
       "      <td>-122.25</td>\n",
       "      <td>37.85</td>\n",
       "      <td>52.0</td>\n",
       "      <td>1627.0</td>\n",
       "      <td>280.0</td>\n",
       "      <td>565.0</td>\n",
       "      <td>259.0</td>\n",
       "      <td>3.8462</td>\n",
       "      <td>342200.0</td>\n",
       "      <td>NEAR BAY</td>\n",
       "    </tr>\n",
       "    <tr>\n",
       "      <th>...</th>\n",
       "      <td>...</td>\n",
       "      <td>...</td>\n",
       "      <td>...</td>\n",
       "      <td>...</td>\n",
       "      <td>...</td>\n",
       "      <td>...</td>\n",
       "      <td>...</td>\n",
       "      <td>...</td>\n",
       "      <td>...</td>\n",
       "      <td>...</td>\n",
       "    </tr>\n",
       "    <tr>\n",
       "      <th>20635</th>\n",
       "      <td>-121.09</td>\n",
       "      <td>39.48</td>\n",
       "      <td>25.0</td>\n",
       "      <td>1665.0</td>\n",
       "      <td>374.0</td>\n",
       "      <td>845.0</td>\n",
       "      <td>330.0</td>\n",
       "      <td>1.5603</td>\n",
       "      <td>78100.0</td>\n",
       "      <td>INLAND</td>\n",
       "    </tr>\n",
       "    <tr>\n",
       "      <th>20636</th>\n",
       "      <td>-121.21</td>\n",
       "      <td>39.49</td>\n",
       "      <td>18.0</td>\n",
       "      <td>697.0</td>\n",
       "      <td>150.0</td>\n",
       "      <td>356.0</td>\n",
       "      <td>114.0</td>\n",
       "      <td>2.5568</td>\n",
       "      <td>77100.0</td>\n",
       "      <td>INLAND</td>\n",
       "    </tr>\n",
       "    <tr>\n",
       "      <th>20637</th>\n",
       "      <td>-121.22</td>\n",
       "      <td>39.43</td>\n",
       "      <td>17.0</td>\n",
       "      <td>2254.0</td>\n",
       "      <td>485.0</td>\n",
       "      <td>1007.0</td>\n",
       "      <td>433.0</td>\n",
       "      <td>1.7000</td>\n",
       "      <td>92300.0</td>\n",
       "      <td>INLAND</td>\n",
       "    </tr>\n",
       "    <tr>\n",
       "      <th>20638</th>\n",
       "      <td>-121.32</td>\n",
       "      <td>39.43</td>\n",
       "      <td>18.0</td>\n",
       "      <td>1860.0</td>\n",
       "      <td>409.0</td>\n",
       "      <td>741.0</td>\n",
       "      <td>349.0</td>\n",
       "      <td>1.8672</td>\n",
       "      <td>84700.0</td>\n",
       "      <td>INLAND</td>\n",
       "    </tr>\n",
       "    <tr>\n",
       "      <th>20639</th>\n",
       "      <td>-121.24</td>\n",
       "      <td>39.37</td>\n",
       "      <td>16.0</td>\n",
       "      <td>2785.0</td>\n",
       "      <td>616.0</td>\n",
       "      <td>1387.0</td>\n",
       "      <td>530.0</td>\n",
       "      <td>2.3886</td>\n",
       "      <td>89400.0</td>\n",
       "      <td>INLAND</td>\n",
       "    </tr>\n",
       "  </tbody>\n",
       "</table>\n",
       "<p>20640 rows × 10 columns</p>\n",
       "</div>"
      ],
      "text/plain": [
       "       longitude  latitude  housing_median_age  total_rooms  total_bedrooms  \\\n",
       "0        -122.23     37.88                41.0        880.0           129.0   \n",
       "1        -122.22     37.86                21.0       7099.0          1106.0   \n",
       "2        -122.24     37.85                52.0       1467.0           190.0   \n",
       "3        -122.25     37.85                52.0       1274.0           235.0   \n",
       "4        -122.25     37.85                52.0       1627.0           280.0   \n",
       "...          ...       ...                 ...          ...             ...   \n",
       "20635    -121.09     39.48                25.0       1665.0           374.0   \n",
       "20636    -121.21     39.49                18.0        697.0           150.0   \n",
       "20637    -121.22     39.43                17.0       2254.0           485.0   \n",
       "20638    -121.32     39.43                18.0       1860.0           409.0   \n",
       "20639    -121.24     39.37                16.0       2785.0           616.0   \n",
       "\n",
       "       population  households  median_income  median_house_value  \\\n",
       "0           322.0       126.0         8.3252            452600.0   \n",
       "1          2401.0      1138.0         8.3014            358500.0   \n",
       "2           496.0       177.0         7.2574            352100.0   \n",
       "3           558.0       219.0         5.6431            341300.0   \n",
       "4           565.0       259.0         3.8462            342200.0   \n",
       "...           ...         ...            ...                 ...   \n",
       "20635       845.0       330.0         1.5603             78100.0   \n",
       "20636       356.0       114.0         2.5568             77100.0   \n",
       "20637      1007.0       433.0         1.7000             92300.0   \n",
       "20638       741.0       349.0         1.8672             84700.0   \n",
       "20639      1387.0       530.0         2.3886             89400.0   \n",
       "\n",
       "      ocean_proximity  \n",
       "0            NEAR BAY  \n",
       "1            NEAR BAY  \n",
       "2            NEAR BAY  \n",
       "3            NEAR BAY  \n",
       "4            NEAR BAY  \n",
       "...               ...  \n",
       "20635          INLAND  \n",
       "20636          INLAND  \n",
       "20637          INLAND  \n",
       "20638          INLAND  \n",
       "20639          INLAND  \n",
       "\n",
       "[20640 rows x 10 columns]"
      ]
     },
     "execution_count": 5,
     "metadata": {},
     "output_type": "execute_result"
    }
   ],
   "source": [
    "data"
   ]
  },
  {
   "cell_type": "code",
   "execution_count": 46,
   "id": "cbdeed51",
   "metadata": {},
   "outputs": [
    {
     "data": {
      "text/plain": [
       "0        452600.0\n",
       "1        358500.0\n",
       "2        352100.0\n",
       "3        341300.0\n",
       "4        342200.0\n",
       "           ...   \n",
       "20635     78100.0\n",
       "20636     77100.0\n",
       "20637     92300.0\n",
       "20638     84700.0\n",
       "20639     89400.0\n",
       "Name: median_house_value, Length: 20640, dtype: float64"
      ]
     },
     "execution_count": 46,
     "metadata": {},
     "output_type": "execute_result"
    }
   ],
   "source": [
    "median_house_value = data.median_house_value\n",
    "median_house_value"
   ]
  },
  {
   "cell_type": "code",
   "execution_count": 8,
   "id": "967d18b8",
   "metadata": {},
   "outputs": [
    {
     "data": {
      "text/plain": [
       "<AxesSubplot:xlabel='median_house_value', ylabel='Count'>"
      ]
     },
     "execution_count": 8,
     "metadata": {},
     "output_type": "execute_result"
    },
    {
     "data": {
      "image/png": "[encoded data removed]",
      "text/plain": [
       "<Figure size 640x480 with 1 Axes>"
      ]
     },
     "metadata": {},
     "output_type": "display_data"
    }
   ],
   "source": [
    "sns.histplot(median_house_value)"
   ]
  },
  {
   "cell_type": "code",
   "execution_count": null,
   "id": "dd992d66",
   "metadata": {},
   "outputs": [],
   "source": [
    "# No long tail."
   ]
  },
  {
   "cell_type": "code",
   "execution_count": 9,
   "id": "480f1a13",
   "metadata": {},
   "outputs": [],
   "source": [
    "columns = ['latitude', 'longitude', 'housing_median_age', 'total_rooms', 'total_bedrooms', 'population', 'households', 'median_income', 'median_house_value']\n",
    "data = data[columns]"
   ]
  },
  {
   "cell_type": "markdown",
   "id": "64efc710",
   "metadata": {},
   "source": [
    "# Question 1"
   ]
  },
  {
   "cell_type": "code",
   "execution_count": 207,
   "id": "be2c597e",
   "metadata": {},
   "outputs": [
    {
     "data": {
      "text/plain": [
       "latitude                0\n",
       "longitude               0\n",
       "housing_median_age      0\n",
       "total_rooms             0\n",
       "total_bedrooms        207\n",
       "population              0\n",
       "households              0\n",
       "median_income           0\n",
       "dtype: int64"
      ]
     },
     "execution_count": 207,
     "metadata": {},
     "output_type": "execute_result"
    }
   ],
   "source": [
    "data.isnull().sum()"
   ]
  },
  {
   "cell_type": "markdown",
   "id": "ed82457c",
   "metadata": {},
   "source": [
    "# Question 2"
   ]
  },
  {
   "cell_type": "code",
   "execution_count": 14,
   "id": "6d9b3354",
   "metadata": {},
   "outputs": [
    {
     "data": {
      "text/plain": [
       "1166.0"
      ]
     },
     "execution_count": 14,
     "metadata": {},
     "output_type": "execute_result"
    }
   ],
   "source": [
    "population_median = data.population.median()\n",
    "population_median"
   ]
  },
  {
   "cell_type": "markdown",
   "id": "b74be791",
   "metadata": {},
   "source": [
    "# Split data"
   ]
  },
  {
   "cell_type": "code",
   "execution_count": 208,
   "id": "8129dd66",
   "metadata": {},
   "outputs": [],
   "source": [
    "import numpy as np\n",
    "\n",
    "np.random.seed(42)\n",
    "data_len = data.shape[0]\n",
    "\n",
    "idx = np.arange(data_len)\n",
    "np.random.shuffle(idx)"
   ]
  },
  {
   "cell_type": "code",
   "execution_count": 209,
   "id": "839c9bb4",
   "metadata": {},
   "outputs": [],
   "source": [
    "train_set_len = int(data_len*0.6)\n",
    "val_test_set_len = int(data_len*0.2)\n",
    "assert train_set_len + val_test_set_len*2  == data_len"
   ]
  },
  {
   "cell_type": "code",
   "execution_count": 210,
   "id": "d42eca87",
   "metadata": {},
   "outputs": [
    {
     "data": {
      "text/plain": [
       "(12384, 4128)"
      ]
     },
     "execution_count": 210,
     "metadata": {},
     "output_type": "execute_result"
    }
   ],
   "source": [
    "train_set_len, val_test_set_len"
   ]
  },
  {
   "cell_type": "code",
   "execution_count": 211,
   "id": "10468d22",
   "metadata": {},
   "outputs": [],
   "source": [
    "df_train = data.iloc[idx[:train_set_len]]\n",
    "df_val = data.iloc[idx[train_set_len:val_test_set_len+train_set_len]]\n",
    "df_test = data.iloc[idx[val_test_set_len+train_set_len:]]"
   ]
  },
  {
   "cell_type": "code",
   "execution_count": 214,
   "id": "41c3bab9",
   "metadata": {},
   "outputs": [],
   "source": [
    "y = np.log1p(y)"
   ]
  },
  {
   "cell_type": "code",
   "execution_count": 215,
   "id": "0767c1f3",
   "metadata": {},
   "outputs": [
    {
     "data": {
      "text/plain": [
       "0        13.022766\n",
       "1        12.789687\n",
       "2        12.771673\n",
       "3        12.740520\n",
       "4        12.743154\n",
       "           ...    \n",
       "20635    11.265758\n",
       "20636    11.252872\n",
       "20637    11.432810\n",
       "20638    11.346883\n",
       "20639    11.400887\n",
       "Name: median_house_value, Length: 20640, dtype: float64"
      ]
     },
     "execution_count": 215,
     "metadata": {},
     "output_type": "execute_result"
    }
   ],
   "source": [
    "y"
   ]
  },
  {
   "cell_type": "code",
   "execution_count": 216,
   "id": "11f4278e",
   "metadata": {},
   "outputs": [],
   "source": [
    "y_train = y.iloc[idx[:train_set_len]]\n",
    "y_val = y.iloc[idx[train_set_len:val_test_set_len+train_set_len]]\n",
    "y_test = y.iloc[idx[val_test_set_len+train_set_len:]]"
   ]
  },
  {
   "cell_type": "code",
   "execution_count": 217,
   "id": "29a8b936",
   "metadata": {},
   "outputs": [
    {
     "data": {
      "text/html": [
       "<div>\n",
       "<style scoped>\n",
       "    .dataframe tbody tr th:only-of-type {\n",
       "        vertical-align: middle;\n",
       "    }\n",
       "\n",
       "    .dataframe tbody tr th {\n",
       "        vertical-align: top;\n",
       "    }\n",
       "\n",
       "    .dataframe thead th {\n",
       "        text-align: right;\n",
       "    }\n",
       "</style>\n",
       "<table border=\"1\" class=\"dataframe\">\n",
       "  <thead>\n",
       "    <tr style=\"text-align: right;\">\n",
       "      <th></th>\n",
       "      <th>latitude</th>\n",
       "      <th>longitude</th>\n",
       "      <th>housing_median_age</th>\n",
       "      <th>total_rooms</th>\n",
       "      <th>total_bedrooms</th>\n",
       "      <th>population</th>\n",
       "      <th>households</th>\n",
       "      <th>median_income</th>\n",
       "    </tr>\n",
       "  </thead>\n",
       "  <tbody>\n",
       "    <tr>\n",
       "      <th>20046</th>\n",
       "      <td>36.06</td>\n",
       "      <td>-119.01</td>\n",
       "      <td>25.0</td>\n",
       "      <td>1505.0</td>\n",
       "      <td>NaN</td>\n",
       "      <td>1392.0</td>\n",
       "      <td>359.0</td>\n",
       "      <td>1.6812</td>\n",
       "    </tr>\n",
       "    <tr>\n",
       "      <th>3024</th>\n",
       "      <td>35.14</td>\n",
       "      <td>-119.46</td>\n",
       "      <td>30.0</td>\n",
       "      <td>2943.0</td>\n",
       "      <td>NaN</td>\n",
       "      <td>1565.0</td>\n",
       "      <td>584.0</td>\n",
       "      <td>2.5313</td>\n",
       "    </tr>\n",
       "    <tr>\n",
       "      <th>15663</th>\n",
       "      <td>37.80</td>\n",
       "      <td>-122.44</td>\n",
       "      <td>52.0</td>\n",
       "      <td>3830.0</td>\n",
       "      <td>NaN</td>\n",
       "      <td>1310.0</td>\n",
       "      <td>963.0</td>\n",
       "      <td>3.4801</td>\n",
       "    </tr>\n",
       "    <tr>\n",
       "      <th>20484</th>\n",
       "      <td>34.28</td>\n",
       "      <td>-118.72</td>\n",
       "      <td>17.0</td>\n",
       "      <td>3051.0</td>\n",
       "      <td>NaN</td>\n",
       "      <td>1705.0</td>\n",
       "      <td>495.0</td>\n",
       "      <td>5.7376</td>\n",
       "    </tr>\n",
       "    <tr>\n",
       "      <th>9814</th>\n",
       "      <td>36.62</td>\n",
       "      <td>-121.93</td>\n",
       "      <td>34.0</td>\n",
       "      <td>2351.0</td>\n",
       "      <td>NaN</td>\n",
       "      <td>1063.0</td>\n",
       "      <td>428.0</td>\n",
       "      <td>3.7250</td>\n",
       "    </tr>\n",
       "  </tbody>\n",
       "</table>\n",
       "</div>"
      ],
      "text/plain": [
       "       latitude  longitude  housing_median_age  total_rooms  total_bedrooms  \\\n",
       "20046     36.06    -119.01                25.0       1505.0             NaN   \n",
       "3024      35.14    -119.46                30.0       2943.0             NaN   \n",
       "15663     37.80    -122.44                52.0       3830.0             NaN   \n",
       "20484     34.28    -118.72                17.0       3051.0             NaN   \n",
       "9814      36.62    -121.93                34.0       2351.0             NaN   \n",
       "\n",
       "       population  households  median_income  \n",
       "20046      1392.0       359.0         1.6812  \n",
       "3024       1565.0       584.0         2.5313  \n",
       "15663      1310.0       963.0         3.4801  \n",
       "20484      1705.0       495.0         5.7376  \n",
       "9814       1063.0       428.0         3.7250  "
      ]
     },
     "execution_count": 217,
     "metadata": {},
     "output_type": "execute_result"
    }
   ],
   "source": [
    "df_train.head()"
   ]
  },
  {
   "cell_type": "code",
   "execution_count": 218,
   "id": "6d6b112b",
   "metadata": {},
   "outputs": [
    {
     "data": {
      "text/plain": [
       "20046    10.772708\n",
       "3024     10.732061\n",
       "15663    13.122367\n",
       "20484    12.295003\n",
       "9814     12.535380\n",
       "Name: median_house_value, dtype: float64"
      ]
     },
     "execution_count": 218,
     "metadata": {},
     "output_type": "execute_result"
    }
   ],
   "source": [
    "y_train.head()"
   ]
  },
  {
   "cell_type": "markdown",
   "id": "38d84b89",
   "metadata": {},
   "source": [
    "# Question 3"
   ]
  },
  {
   "cell_type": "code",
   "execution_count": 244,
   "id": "0fe3d78b",
   "metadata": {},
   "outputs": [],
   "source": [
    "def rmse(y, y_pred):\n",
    "    error = y_pred - y\n",
    "    mse = (error ** 2).mean()\n",
    "    return np.sqrt(mse).round(2)"
   ]
  },
  {
   "cell_type": "code",
   "execution_count": 80,
   "id": "9be04a38",
   "metadata": {},
   "outputs": [],
   "source": [
    "def prepare_data(X, columns = None, fill = 0):\n",
    "    if column:\n",
    "        X[columns] = X[columns].fillna(fill)\n",
    "    else:\n",
    "        X = X.fillna(fill)\n",
    "    X = X.values\n",
    "    return X"
   ]
  },
  {
   "cell_type": "code",
   "execution_count": 129,
   "id": "2062105d",
   "metadata": {},
   "outputs": [],
   "source": [
    "def train_linear_regression_model(X, y, r = None):\n",
    "    ones =np.ones(X.shape[0])\n",
    "    X = np.column_stack([ones, X])\n",
    "    XTX = X.T.dot(X)\n",
    "    \n",
    "    if r:\n",
    "        reg = r * np.eye(XTX.shape[0])\n",
    "        XTX = XTX + reg\n",
    "    \n",
    "    XTX_inv = np.linalg.inv(XTX)\n",
    "    w = XTX_inv.dot(X.T).dot(y)\n",
    "    \n",
    "    return w[0], w[1:]\n",
    "    "
   ]
  },
  {
   "cell_type": "code",
   "execution_count": 143,
   "id": "c8f50513",
   "metadata": {},
   "outputs": [],
   "source": [
    "def evaluate_model(X_train, y_train, X_val, y_val, r = None, fill = 0, empty_columns = None):\n",
    "    X_train = prepare_data(X_train, empty_columns, fill = fill)\n",
    "    w0, w = train_linear_regression_model(X_train, y_train, r)\n",
    "    print(f'bias: {w0},\\n weights: {w}')\n",
    "    X_val = prepare_data(X_val, empty_columns, fill = fill)\n",
    "    y_pred = w0 + X_val.dot(w)\n",
    "    return rmse(y_val, y_pred)"
   ]
  },
  {
   "cell_type": "code",
   "execution_count": 219,
   "id": "e68deed0",
   "metadata": {},
   "outputs": [],
   "source": [
    "X_train = df_train.copy()\n",
    "X_val = df_val.copy()"
   ]
  },
  {
   "cell_type": "code",
   "execution_count": 220,
   "id": "5f91fcd8",
   "metadata": {},
   "outputs": [
    {
     "data": {
      "text/plain": [
       "latitude                0\n",
       "longitude               0\n",
       "housing_median_age      0\n",
       "total_rooms             0\n",
       "total_bedrooms        207\n",
       "population              0\n",
       "households              0\n",
       "median_income           0\n",
       "dtype: int64"
      ]
     },
     "execution_count": 220,
     "metadata": {},
     "output_type": "execute_result"
    }
   ],
   "source": [
    "X_train.isnull().sum()"
   ]
  },
  {
   "cell_type": "code",
   "execution_count": 221,
   "id": "0db25a5d",
   "metadata": {},
   "outputs": [
    {
     "name": "stdout",
     "output_type": "stream",
     "text": [
      "bias: -11.686975241713947,\n",
      " weights: [-2.82087184e-01 -2.76255120e-01  2.91329621e-03 -8.64531514e-06\n",
      "  1.50811922e-04 -2.08205659e-04  5.69546573e-04  1.71308139e-01]\n"
     ]
    }
   ],
   "source": [
    "rmse_zero = evaluate_model(X_train, y_train, X_val, y_val, r = None, fill = 0, empty_columns = ['total_bedrooms'])"
   ]
  },
  {
   "cell_type": "code",
   "execution_count": 222,
   "id": "1ee76136",
   "metadata": {},
   "outputs": [],
   "source": [
    "X_train = df_train.copy()\n",
    "X_val = df_val.copy()"
   ]
  },
  {
   "cell_type": "code",
   "execution_count": 223,
   "id": "9b9b22cc",
   "metadata": {},
   "outputs": [
    {
     "data": {
      "text/plain": [
       "latitude                0\n",
       "longitude               0\n",
       "housing_median_age      0\n",
       "total_rooms             0\n",
       "total_bedrooms        207\n",
       "population              0\n",
       "households              0\n",
       "median_income           0\n",
       "dtype: int64"
      ]
     },
     "execution_count": 223,
     "metadata": {},
     "output_type": "execute_result"
    }
   ],
   "source": [
    "X_train.isnull().sum()"
   ]
  },
  {
   "cell_type": "code",
   "execution_count": 224,
   "id": "e32c3ac5",
   "metadata": {},
   "outputs": [
    {
     "name": "stdout",
     "output_type": "stream",
     "text": [
      "bias: -11.75959087216739,\n",
      " weights: [-2.82182103e-01 -2.76809637e-01  2.93033801e-03 -1.48543785e-05\n",
      "  2.48054046e-04 -2.03763456e-04  4.87004092e-04  1.73086593e-01]\n"
     ]
    }
   ],
   "source": [
    "mean_total_bedrooms = X_train['total_bedrooms'].mean()\n",
    "\n",
    "rmse_mean = evaluate_model(X_train, y_train, X_val, y_val, r = None, fill = mean_total_bedrooms, empty_columns = ['total_bedrooms'])"
   ]
  },
  {
   "cell_type": "code",
   "execution_count": 225,
   "id": "aa838e00",
   "metadata": {},
   "outputs": [
    {
     "data": {
      "text/plain": [
       "0.33"
      ]
     },
     "execution_count": 225,
     "metadata": {},
     "output_type": "execute_result"
    }
   ],
   "source": [
    "rmse_mean"
   ]
  },
  {
   "cell_type": "code",
   "execution_count": 226,
   "id": "0971470e",
   "metadata": {},
   "outputs": [
    {
     "data": {
      "text/plain": [
       "0.33"
      ]
     },
     "execution_count": 226,
     "metadata": {},
     "output_type": "execute_result"
    }
   ],
   "source": [
    "rmse_zero"
   ]
  },
  {
   "cell_type": "markdown",
   "id": "bf5c4072",
   "metadata": {},
   "source": [
    "Answer: Equally good. "
   ]
  },
  {
   "cell_type": "markdown",
   "id": "f167c085",
   "metadata": {},
   "source": [
    "# Question 4"
   ]
  },
  {
   "cell_type": "code",
   "execution_count": 227,
   "id": "32ec9df4",
   "metadata": {},
   "outputs": [],
   "source": [
    "X_train = df_train.copy()\n",
    "X_val = df_val.copy()"
   ]
  },
  {
   "cell_type": "code",
   "execution_count": 228,
   "id": "7ecb6bf2",
   "metadata": {},
   "outputs": [
    {
     "data": {
      "text/plain": [
       "latitude                0\n",
       "longitude               0\n",
       "housing_median_age      0\n",
       "total_rooms             0\n",
       "total_bedrooms        207\n",
       "population              0\n",
       "households              0\n",
       "median_income           0\n",
       "dtype: int64"
      ]
     },
     "execution_count": 228,
     "metadata": {},
     "output_type": "execute_result"
    }
   ],
   "source": [
    "X_train.isnull().sum()"
   ]
  },
  {
   "cell_type": "code",
   "execution_count": 229,
   "id": "7fb35ffe",
   "metadata": {},
   "outputs": [],
   "source": [
    "r_options = [0, 0.000001, 0.0001, 0.001, 0.01, 0.1, 1, 5, 10]"
   ]
  },
  {
   "cell_type": "code",
   "execution_count": 230,
   "id": "f13bfdf2",
   "metadata": {},
   "outputs": [
    {
     "name": "stdout",
     "output_type": "stream",
     "text": [
      "bias: -11.686975241713947,\n",
      " weights: [-2.82087184e-01 -2.76255120e-01  2.91329621e-03 -8.64531514e-06\n",
      "  1.50811922e-04 -2.08205659e-04  5.69546573e-04  1.71308139e-01]\n",
      "bias: -11.686959175536991,\n",
      " weights: [-2.82087030e-01 -2.76254938e-01  2.91329904e-03 -8.64535104e-06\n",
      "  1.50811874e-04 -2.08205662e-04  5.69546853e-04  1.71308163e-01]\n",
      "bias: -11.68536886572831,\n",
      " weights: [-2.82071863e-01 -2.76236960e-01  2.91357892e-03 -8.64890458e-06\n",
      "  1.50807091e-04 -2.08205964e-04  5.69574487e-04  1.71310631e-01]\n",
      "bias: -11.670931317955688,\n",
      " weights: [-2.81934164e-01 -2.76073747e-01  2.91611982e-03 -8.68116523e-06\n",
      "  1.50763669e-04 -2.08208710e-04  5.69825364e-04  1.71333037e-01]\n",
      "bias: -11.52849358570942,\n",
      " weights: [-2.80575653e-01 -2.74463519e-01  2.94118780e-03 -8.99944134e-06\n",
      "  1.50335271e-04 -2.08235797e-04  5.72300466e-04  1.71554081e-01]\n",
      "bias: -10.274500282064437,\n",
      " weights: [-2.68615534e-01 -2.60287379e-01  3.16188191e-03 -1.18014337e-05\n",
      "  1.46563566e-04 -2.08474264e-04  5.94090735e-04  1.73500060e-01]\n",
      "bias: -4.9204808978063905,\n",
      " weights: [-2.17547809e-01 -1.99760412e-01  4.10418096e-03 -2.37625053e-05\n",
      "  1.30451605e-04 -2.09492203e-04  6.87124351e-04  1.81806293e-01]\n",
      "bias: -1.4820957456166342,\n",
      " weights: [-1.84731285e-01 -1.60883882e-01  4.70952286e-03 -3.14290750e-05\n",
      "  1.20048781e-04 -2.10144516e-04  7.46860607e-04  1.87125535e-01]\n",
      "bias: -0.7899311832497746,\n",
      " weights: [-1.78100022e-01 -1.53050818e-01  4.83161595e-03 -3.29541256e-05\n",
      "  1.17886470e-04 -2.10274098e-04  7.58872926e-04  1.88177852e-01]\n"
     ]
    }
   ],
   "source": [
    "results = {}\n",
    "\n",
    "for r in r_options:\n",
    "    results[r] = evaluate_model(X_train, y_train, X_val, y_val, r = r, fill = 0, empty_columns = ['total_bedrooms'])\n",
    "    \n",
    "    "
   ]
  },
  {
   "cell_type": "code",
   "execution_count": 231,
   "id": "fdaa6cb2",
   "metadata": {},
   "outputs": [
    {
     "data": {
      "text/plain": [
       "{0: 0.33,\n",
       " 1e-06: 0.33,\n",
       " 0.0001: 0.33,\n",
       " 0.001: 0.33,\n",
       " 0.01: 0.33,\n",
       " 0.1: 0.33,\n",
       " 1: 0.33,\n",
       " 5: 0.34,\n",
       " 10: 0.34}"
      ]
     },
     "execution_count": 231,
     "metadata": {},
     "output_type": "execute_result"
    }
   ],
   "source": [
    "results"
   ]
  },
  {
   "cell_type": "markdown",
   "id": "534d52e3",
   "metadata": {},
   "source": [
    "# Question 5"
   ]
  },
  {
   "cell_type": "code",
   "execution_count": 232,
   "id": "047626e6",
   "metadata": {},
   "outputs": [],
   "source": [
    "seed_options = [0, 1, 2, 3, 4, 5, 6, 7, 8, 9]"
   ]
  },
  {
   "cell_type": "code",
   "execution_count": 233,
   "id": "46c64eb4",
   "metadata": {},
   "outputs": [
    {
     "name": "stdout",
     "output_type": "stream",
     "text": [
      "bias: -11.900382139443316,\n",
      " weights: [-2.83587925e-01 -2.78474139e-01  2.83363465e-03 -1.39546125e-05\n",
      "  2.08700923e-04 -2.03244946e-04  5.31397032e-04  1.71064667e-01]\n",
      "bias: -11.732757373641356,\n",
      " weights: [-2.81066601e-01 -2.76080690e-01  3.27325341e-03 -2.12164361e-05\n",
      "  2.58696429e-04 -1.70730849e-04  4.39101611e-04  1.72814119e-01]\n",
      "bias: -11.806729361482809,\n",
      " weights: [-2.80146215e-01 -2.76488987e-01  3.24730928e-03 -2.35489274e-05\n",
      "  2.70655686e-04 -1.68484740e-04  4.20303018e-04  1.72584448e-01]\n",
      "bias: -11.58790034854829,\n",
      " weights: [-2.78281924e-01 -2.74072566e-01  3.02426258e-03 -2.00647295e-05\n",
      "  2.74030518e-04 -1.67519497e-04  4.09883474e-04  1.73607061e-01]\n",
      "bias: -11.38947058893136,\n",
      " weights: [-2.76721574e-01 -2.71948129e-01  3.21255726e-03 -1.87041135e-05\n",
      "  1.98346975e-04 -1.61822587e-04  4.53890175e-04  1.74005574e-01]\n",
      "bias: -11.447114276367895,\n",
      " weights: [-2.77082677e-01 -2.72345140e-01  3.51861123e-03 -2.25827635e-05\n",
      "  2.10627546e-04 -1.70006919e-04  4.99355860e-04  1.75625429e-01]\n",
      "bias: -11.370516352206266,\n",
      " weights: [-2.78001711e-01 -2.72242609e-01  3.14472372e-03 -2.02889926e-05\n",
      "  2.52729842e-04 -2.02099759e-04  5.09234964e-04  1.73783142e-01]\n",
      "bias: -12.473448918967883,\n",
      " weights: [-2.91548182e-01 -2.85591738e-01  3.19413259e-03 -1.16403766e-05\n",
      "  2.21711162e-04 -2.02133541e-04  4.96054306e-04  1.70364716e-01]\n",
      "bias: -11.80028743001995,\n",
      " weights: [-2.81314435e-01 -2.76848542e-01  2.73896844e-03 -1.78931522e-05\n",
      "  1.81221985e-04 -1.96980199e-04  5.54451120e-04  1.75477541e-01]\n",
      "bias: -11.459046830955398,\n",
      " weights: [-2.75473134e-01 -2.71952929e-01  3.50529910e-03 -2.12042190e-05\n",
      "  2.45387880e-04 -1.59763554e-04  4.25106023e-04  1.75592490e-01]\n"
     ]
    },
    {
     "name": "stderr",
     "output_type": "stream",
     "text": [
      "/var/folders/3r/_mc3xcfj2hs9f950xsb3t44w0000gn/T/ipykernel_51718/1248812977.py:3: SettingWithCopyWarning: \n",
      "A value is trying to be set on a copy of a slice from a DataFrame.\n",
      "Try using .loc[row_indexer,col_indexer] = value instead\n",
      "\n",
      "See the caveats in the documentation: https://pandas.pydata.org/pandas-docs/stable/user_guide/indexing.html#returning-a-view-versus-a-copy\n",
      "  X[column] = X[column].fillna(fill)\n",
      "/var/folders/3r/_mc3xcfj2hs9f950xsb3t44w0000gn/T/ipykernel_51718/1248812977.py:3: SettingWithCopyWarning: \n",
      "A value is trying to be set on a copy of a slice from a DataFrame.\n",
      "Try using .loc[row_indexer,col_indexer] = value instead\n",
      "\n",
      "See the caveats in the documentation: https://pandas.pydata.org/pandas-docs/stable/user_guide/indexing.html#returning-a-view-versus-a-copy\n",
      "  X[column] = X[column].fillna(fill)\n",
      "/var/folders/3r/_mc3xcfj2hs9f950xsb3t44w0000gn/T/ipykernel_51718/1248812977.py:3: SettingWithCopyWarning: \n",
      "A value is trying to be set on a copy of a slice from a DataFrame.\n",
      "Try using .loc[row_indexer,col_indexer] = value instead\n",
      "\n",
      "See the caveats in the documentation: https://pandas.pydata.org/pandas-docs/stable/user_guide/indexing.html#returning-a-view-versus-a-copy\n",
      "  X[column] = X[column].fillna(fill)\n",
      "/var/folders/3r/_mc3xcfj2hs9f950xsb3t44w0000gn/T/ipykernel_51718/1248812977.py:3: SettingWithCopyWarning: \n",
      "A value is trying to be set on a copy of a slice from a DataFrame.\n",
      "Try using .loc[row_indexer,col_indexer] = value instead\n",
      "\n",
      "See the caveats in the documentation: https://pandas.pydata.org/pandas-docs/stable/user_guide/indexing.html#returning-a-view-versus-a-copy\n",
      "  X[column] = X[column].fillna(fill)\n",
      "/var/folders/3r/_mc3xcfj2hs9f950xsb3t44w0000gn/T/ipykernel_51718/1248812977.py:3: SettingWithCopyWarning: \n",
      "A value is trying to be set on a copy of a slice from a DataFrame.\n",
      "Try using .loc[row_indexer,col_indexer] = value instead\n",
      "\n",
      "See the caveats in the documentation: https://pandas.pydata.org/pandas-docs/stable/user_guide/indexing.html#returning-a-view-versus-a-copy\n",
      "  X[column] = X[column].fillna(fill)\n",
      "/var/folders/3r/_mc3xcfj2hs9f950xsb3t44w0000gn/T/ipykernel_51718/1248812977.py:3: SettingWithCopyWarning: \n",
      "A value is trying to be set on a copy of a slice from a DataFrame.\n",
      "Try using .loc[row_indexer,col_indexer] = value instead\n",
      "\n",
      "See the caveats in the documentation: https://pandas.pydata.org/pandas-docs/stable/user_guide/indexing.html#returning-a-view-versus-a-copy\n",
      "  X[column] = X[column].fillna(fill)\n",
      "/var/folders/3r/_mc3xcfj2hs9f950xsb3t44w0000gn/T/ipykernel_51718/1248812977.py:3: SettingWithCopyWarning: \n",
      "A value is trying to be set on a copy of a slice from a DataFrame.\n",
      "Try using .loc[row_indexer,col_indexer] = value instead\n",
      "\n",
      "See the caveats in the documentation: https://pandas.pydata.org/pandas-docs/stable/user_guide/indexing.html#returning-a-view-versus-a-copy\n",
      "  X[column] = X[column].fillna(fill)\n",
      "/var/folders/3r/_mc3xcfj2hs9f950xsb3t44w0000gn/T/ipykernel_51718/1248812977.py:3: SettingWithCopyWarning: \n",
      "A value is trying to be set on a copy of a slice from a DataFrame.\n",
      "Try using .loc[row_indexer,col_indexer] = value instead\n",
      "\n",
      "See the caveats in the documentation: https://pandas.pydata.org/pandas-docs/stable/user_guide/indexing.html#returning-a-view-versus-a-copy\n",
      "  X[column] = X[column].fillna(fill)\n",
      "/var/folders/3r/_mc3xcfj2hs9f950xsb3t44w0000gn/T/ipykernel_51718/1248812977.py:3: SettingWithCopyWarning: \n",
      "A value is trying to be set on a copy of a slice from a DataFrame.\n",
      "Try using .loc[row_indexer,col_indexer] = value instead\n",
      "\n",
      "See the caveats in the documentation: https://pandas.pydata.org/pandas-docs/stable/user_guide/indexing.html#returning-a-view-versus-a-copy\n",
      "  X[column] = X[column].fillna(fill)\n",
      "/var/folders/3r/_mc3xcfj2hs9f950xsb3t44w0000gn/T/ipykernel_51718/1248812977.py:3: SettingWithCopyWarning: \n",
      "A value is trying to be set on a copy of a slice from a DataFrame.\n",
      "Try using .loc[row_indexer,col_indexer] = value instead\n",
      "\n",
      "See the caveats in the documentation: https://pandas.pydata.org/pandas-docs/stable/user_guide/indexing.html#returning-a-view-versus-a-copy\n",
      "  X[column] = X[column].fillna(fill)\n",
      "/var/folders/3r/_mc3xcfj2hs9f950xsb3t44w0000gn/T/ipykernel_51718/1248812977.py:3: SettingWithCopyWarning: \n",
      "A value is trying to be set on a copy of a slice from a DataFrame.\n",
      "Try using .loc[row_indexer,col_indexer] = value instead\n",
      "\n",
      "See the caveats in the documentation: https://pandas.pydata.org/pandas-docs/stable/user_guide/indexing.html#returning-a-view-versus-a-copy\n",
      "  X[column] = X[column].fillna(fill)\n",
      "/var/folders/3r/_mc3xcfj2hs9f950xsb3t44w0000gn/T/ipykernel_51718/1248812977.py:3: SettingWithCopyWarning: \n",
      "A value is trying to be set on a copy of a slice from a DataFrame.\n",
      "Try using .loc[row_indexer,col_indexer] = value instead\n",
      "\n",
      "See the caveats in the documentation: https://pandas.pydata.org/pandas-docs/stable/user_guide/indexing.html#returning-a-view-versus-a-copy\n",
      "  X[column] = X[column].fillna(fill)\n",
      "/var/folders/3r/_mc3xcfj2hs9f950xsb3t44w0000gn/T/ipykernel_51718/1248812977.py:3: SettingWithCopyWarning: \n",
      "A value is trying to be set on a copy of a slice from a DataFrame.\n",
      "Try using .loc[row_indexer,col_indexer] = value instead\n",
      "\n",
      "See the caveats in the documentation: https://pandas.pydata.org/pandas-docs/stable/user_guide/indexing.html#returning-a-view-versus-a-copy\n",
      "  X[column] = X[column].fillna(fill)\n",
      "/var/folders/3r/_mc3xcfj2hs9f950xsb3t44w0000gn/T/ipykernel_51718/1248812977.py:3: SettingWithCopyWarning: \n",
      "A value is trying to be set on a copy of a slice from a DataFrame.\n",
      "Try using .loc[row_indexer,col_indexer] = value instead\n",
      "\n",
      "See the caveats in the documentation: https://pandas.pydata.org/pandas-docs/stable/user_guide/indexing.html#returning-a-view-versus-a-copy\n",
      "  X[column] = X[column].fillna(fill)\n",
      "/var/folders/3r/_mc3xcfj2hs9f950xsb3t44w0000gn/T/ipykernel_51718/1248812977.py:3: SettingWithCopyWarning: \n",
      "A value is trying to be set on a copy of a slice from a DataFrame.\n",
      "Try using .loc[row_indexer,col_indexer] = value instead\n",
      "\n",
      "See the caveats in the documentation: https://pandas.pydata.org/pandas-docs/stable/user_guide/indexing.html#returning-a-view-versus-a-copy\n",
      "  X[column] = X[column].fillna(fill)\n",
      "/var/folders/3r/_mc3xcfj2hs9f950xsb3t44w0000gn/T/ipykernel_51718/1248812977.py:3: SettingWithCopyWarning: \n",
      "A value is trying to be set on a copy of a slice from a DataFrame.\n",
      "Try using .loc[row_indexer,col_indexer] = value instead\n",
      "\n",
      "See the caveats in the documentation: https://pandas.pydata.org/pandas-docs/stable/user_guide/indexing.html#returning-a-view-versus-a-copy\n",
      "  X[column] = X[column].fillna(fill)\n",
      "/var/folders/3r/_mc3xcfj2hs9f950xsb3t44w0000gn/T/ipykernel_51718/1248812977.py:3: SettingWithCopyWarning: \n",
      "A value is trying to be set on a copy of a slice from a DataFrame.\n",
      "Try using .loc[row_indexer,col_indexer] = value instead\n",
      "\n",
      "See the caveats in the documentation: https://pandas.pydata.org/pandas-docs/stable/user_guide/indexing.html#returning-a-view-versus-a-copy\n",
      "  X[column] = X[column].fillna(fill)\n",
      "/var/folders/3r/_mc3xcfj2hs9f950xsb3t44w0000gn/T/ipykernel_51718/1248812977.py:3: SettingWithCopyWarning: \n",
      "A value is trying to be set on a copy of a slice from a DataFrame.\n",
      "Try using .loc[row_indexer,col_indexer] = value instead\n",
      "\n",
      "See the caveats in the documentation: https://pandas.pydata.org/pandas-docs/stable/user_guide/indexing.html#returning-a-view-versus-a-copy\n",
      "  X[column] = X[column].fillna(fill)\n",
      "/var/folders/3r/_mc3xcfj2hs9f950xsb3t44w0000gn/T/ipykernel_51718/1248812977.py:3: SettingWithCopyWarning: \n",
      "A value is trying to be set on a copy of a slice from a DataFrame.\n",
      "Try using .loc[row_indexer,col_indexer] = value instead\n",
      "\n",
      "See the caveats in the documentation: https://pandas.pydata.org/pandas-docs/stable/user_guide/indexing.html#returning-a-view-versus-a-copy\n",
      "  X[column] = X[column].fillna(fill)\n",
      "/var/folders/3r/_mc3xcfj2hs9f950xsb3t44w0000gn/T/ipykernel_51718/1248812977.py:3: SettingWithCopyWarning: \n",
      "A value is trying to be set on a copy of a slice from a DataFrame.\n",
      "Try using .loc[row_indexer,col_indexer] = value instead\n",
      "\n",
      "See the caveats in the documentation: https://pandas.pydata.org/pandas-docs/stable/user_guide/indexing.html#returning-a-view-versus-a-copy\n",
      "  X[column] = X[column].fillna(fill)\n"
     ]
    }
   ],
   "source": [
    "data_len = data.shape[0]\n",
    "train_set_len = int(data_len*0.6)\n",
    "val_test_set_len = int(data_len*0.2)\n",
    "\n",
    "scores = []\n",
    "\n",
    "for seed in seed_options:\n",
    "    np.random.seed(seed)\n",
    "\n",
    "    idx = np.arange(data_len)\n",
    "    np.random.shuffle(idx)\n",
    "    \n",
    "    X_train = data.iloc[idx[:train_set_len]]\n",
    "    X_val = data.iloc[idx[train_set_len:val_test_set_len+train_set_len]]\n",
    "    X_test = data.iloc[idx[val_test_set_len+train_set_len:]]\n",
    "    \n",
    "    y_train = y.iloc[idx[:train_set_len]]\n",
    "    y_val = y.iloc[idx[train_set_len:val_test_set_len+train_set_len]]\n",
    "    y_test = y.iloc[idx[val_test_set_len+train_set_len:]]\n",
    "    \n",
    "    scores.append(evaluate_model(X_train, y_train, X_val, y_val, r = None, fill = 0, empty_columns = ['total_bedrooms']))\n",
    "    "
   ]
  },
  {
   "cell_type": "code",
   "execution_count": 234,
   "id": "267563eb",
   "metadata": {},
   "outputs": [
    {
     "data": {
      "text/plain": [
       "[0.34, 0.34, 0.33, 0.34, 0.34, 0.34, 0.35, 0.34, 0.35, 0.34]"
      ]
     },
     "execution_count": 234,
     "metadata": {},
     "output_type": "execute_result"
    }
   ],
   "source": [
    "scores"
   ]
  },
  {
   "cell_type": "code",
   "execution_count": 235,
   "id": "59660778",
   "metadata": {},
   "outputs": [
    {
     "data": {
      "text/plain": [
       "0.005"
      ]
     },
     "execution_count": 235,
     "metadata": {},
     "output_type": "execute_result"
    }
   ],
   "source": [
    "round(np.std(scores), 3)"
   ]
  },
  {
   "cell_type": "markdown",
   "id": "ef48b049",
   "metadata": {},
   "source": [
    "# Question 6"
   ]
  },
  {
   "cell_type": "code",
   "execution_count": 236,
   "id": "ba1f308b",
   "metadata": {},
   "outputs": [],
   "source": [
    "np.random.seed(9)\n",
    "\n",
    "idx = np.arange(data_len)\n",
    "np.random.shuffle(idx)\n",
    "    \n",
    "X_train = data.iloc[idx[:train_set_len]]\n",
    "X_val = data.iloc[idx[train_set_len:val_test_set_len+train_set_len]]\n",
    "X_test = data.iloc[idx[val_test_set_len+train_set_len:]]\n",
    "    \n",
    "y_train = y.iloc[idx[:train_set_len]]\n",
    "y_val = y.iloc[idx[train_set_len:val_test_set_len+train_set_len]]\n",
    "y_test = y.iloc[idx[val_test_set_len+train_set_len:]]"
   ]
  },
  {
   "cell_type": "code",
   "execution_count": 237,
   "id": "c8d5b1b0",
   "metadata": {},
   "outputs": [],
   "source": [
    "train_data = pd.concat([X_train, X_val])\n",
    "target_data = pd.concat([y_train, y_test]).values"
   ]
  },
  {
   "cell_type": "code",
   "execution_count": 246,
   "id": "03e31ed2",
   "metadata": {},
   "outputs": [
    {
     "data": {
      "text/plain": [
       "Index(['latitude', 'longitude', 'housing_median_age', 'total_rooms',\n",
       "       'total_bedrooms', 'population', 'households', 'median_income'],\n",
       "      dtype='object')"
      ]
     },
     "execution_count": 246,
     "metadata": {},
     "output_type": "execute_result"
    }
   ],
   "source": [
    "train_data.columns"
   ]
  },
  {
   "cell_type": "code",
   "execution_count": 239,
   "id": "53d7a4a0",
   "metadata": {},
   "outputs": [],
   "source": [
    "def train_linear_regression_reg(X, y, r=0.0):\n",
    "    ones = np.ones(X.shape[0])\n",
    "    X = np.column_stack([ones, X])\n",
    "\n",
    "    XTX = X.T.dot(X)\n",
    "    reg = r * np.eye(XTX.shape[0])\n",
    "    XTX = XTX + reg\n",
    "\n",
    "    XTX_inv = np.linalg.inv(XTX)\n",
    "    w = XTX_inv.dot(X.T).dot(y)\n",
    "    \n",
    "    return w[0], w[1:]"
   ]
  },
  {
   "cell_type": "code",
   "execution_count": 251,
   "id": "528e0a91",
   "metadata": {},
   "outputs": [],
   "source": [
    "train_data = train_data.fillna(0)\n",
    "X_test = X_test.fillna(0)"
   ]
  },
  {
   "cell_type": "code",
   "execution_count": 252,
   "id": "ca3af90e",
   "metadata": {},
   "outputs": [
    {
     "name": "stdout",
     "output_type": "stream",
     "text": [
      "bias: -5.990469041919493,\n",
      " weights: [-2.09227009e-01 -2.08322984e-01  2.23250710e-03 -1.92682154e-05\n",
      "  1.85857781e-04 -1.22330155e-04  3.31001478e-04  1.33335255e-01]\n"
     ]
    },
    {
     "data": {
      "text/plain": [
       "0.36"
      ]
     },
     "execution_count": 252,
     "metadata": {},
     "output_type": "execute_result"
    }
   ],
   "source": [
    "evaluate_model(train_data, target_data, X_test, y_test, r = 0.001, fill = 0, empty_columns = ['total_bedrooms'])\n"
   ]
  },
  {
   "cell_type": "code",
   "execution_count": null,
   "id": "431521ff",
   "metadata": {},
   "outputs": [],
   "source": []
  }
 ],
 "metadata": {
  "kernelspec": {
   "display_name": "Python 3 (ipykernel)",
   "language": "python",
   "name": "python3"
  },
  "language_info": {
   "codemirror_mode": {
    "name": "ipython",
    "version": 3
   },
   "file_extension": ".py",
   "mimetype": "text/x-python",
   "name": "python",
   "nbconvert_exporter": "python",
   "pygments_lexer": "ipython3",
   "version": "3.9.13"
  }
 },
 "nbformat": 4,
 "nbformat_minor": 5
}
